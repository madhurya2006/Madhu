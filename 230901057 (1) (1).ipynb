{
  "nbformat": 4,
  "nbformat_minor": 0,
  "metadata": {
    "colab": {
      "provenance": [],
      "toc_visible": true
    },
    "kernelspec": {
      "name": "python3",
      "display_name": "Python 3"
    },
    "language_info": {
      "name": "python"
    }
  },
  "cells": [
    {
      "cell_type": "code",
      "execution_count": null,
      "metadata": {
        "colab": {
          "base_uri": "https://localhost:8080/"
        },
        "id": "fvgwzDFlU6Dc",
        "outputId": "4b16beb2-52c5-483c-dc99-f909589d101c"
      },
      "outputs": [
        {
          "output_type": "stream",
          "name": "stdout",
          "text": [
            "original data:\n",
            "\n",
            "    S.NO  ROLL NO      NAME   ENG   TAM  MATHS  SCIENCE  SOCIAL  TOTAL\n",
            "0      1      105      arun  87.0  89.0   90.0     94.0    99.0  459.0\n",
            "1      2      106     rashi  98.0  75.0   90.0     89.0    78.0  430.0\n",
            "2      3      107    magizh  99.0  98.0   97.0    100.0    90.0  484.0\n",
            "3      4      108    chitra  80.0  88.0   98.0     96.0    94.0  456.0\n",
            "4      5      109    tharun  78.0  79.0   90.0     80.0    79.0  406.0\n",
            "5      6      110     varun  90.0  91.0   92.0     93.0    94.0  460.0\n",
            "6      7      111       NaN   NaN   NaN    NaN      NaN     NaN    NaN\n",
            "7      8      112    monish  89.0  80.0   87.0     88.0    86.0  430.0\n",
            "8      9      113    thanvi  78.0  87.0   97.0     90.0    89.0  441.0\n",
            "9     10      114    swetha  88.0  80.0   89.0     90.0    94.0  441.0\n",
            "10    11      115      rani  99.0  90.0   83.0     85.0    67.0  424.0\n",
            "11    12      116     kumar  67.0  60.0   55.0     76.0    57.0  315.0\n",
            "12    13      117   santosh  99.0  90.0   98.0     97.0    96.0  480.0\n",
            "13    14      118     maddy  86.0  89.0   90.0     76.0    89.0  430.0\n",
            "14    15      119  thrishal  99.0  96.0   95.0     86.0    87.0  463.0\n",
            "15    16      120      moni  90.0  88.0   90.0     89.0    90.0  447.0\n",
            "16    17      121     priya  99.0  90.0   95.0     85.0    91.0  460.0\n",
            "17    18      122    sherin  97.0  98.0   94.0     94.0    90.0  473.0\n",
            "18    19      123    kaviya  95.0  87.0   95.0     96.0    98.0  471.0\n",
            "19    20      124      viji  94.0  88.0   56.0     99.0    99.0  436.0\n"
          ]
        }
      ],
      "source": [
        "import pandas as pd\n",
        "pd.set_option('display.max_columns',10)\n",
        "print(\"original data:\\n\")\n",
        "df=pd.read_excel(\"/content/Marks.xlsx\")\n",
        "print(df)"
      ]
    },
    {
      "cell_type": "code",
      "source": [
        "f=df[\"NAME\"].str.strip()\n",
        "f.to_excel(\"/content/Marks2.xlsx\")\n",
        "print(f)"
      ],
      "metadata": {
        "colab": {
          "base_uri": "https://localhost:8080/"
        },
        "id": "d8f-E4WiXZi_",
        "outputId": "78b29847-86d3-4f60-e410-c06b603a6bde"
      },
      "execution_count": null,
      "outputs": [
        {
          "output_type": "stream",
          "name": "stdout",
          "text": [
            "0         arun\n",
            "1        rashi\n",
            "2       magizh\n",
            "3       chitra\n",
            "4       tharun\n",
            "5        varun\n",
            "6          NaN\n",
            "7       monish\n",
            "8       thanvi\n",
            "9       swetha\n",
            "10        rani\n",
            "11       kumar\n",
            "12     santosh\n",
            "13       maddy\n",
            "14    thrishal\n",
            "15        moni\n",
            "16       priya\n",
            "17      sherin\n",
            "18      kaviya\n",
            "19        viji\n",
            "Name: NAME, dtype: object\n"
          ]
        }
      ]
    },
    {
      "cell_type": "code",
      "source": [
        "print(\"\\nReplaceValue:\")\n",
        "k=df.fillna(method='pad')\n",
        "print(k)\n",
        "print(\"\\n updated list\\n\")\n",
        "k.to_excel(\"/content/Marks2.xlsx\")"
      ],
      "metadata": {
        "colab": {
          "base_uri": "https://localhost:8080/"
        },
        "id": "DNf1hzwSYG9g",
        "outputId": "e4235d98-61ce-47c2-9aa4-a1a60e8d35d2"
      },
      "execution_count": null,
      "outputs": [
        {
          "output_type": "stream",
          "name": "stdout",
          "text": [
            "\n",
            "ReplaceValue:\n",
            "    S.NO  ROLL NO      NAME   ENG   TAM  MATHS  SCIENCE  SOCIAL  TOTAL\n",
            "0      1      105      arun  87.0  89.0   90.0     94.0    99.0  459.0\n",
            "1      2      106     rashi  98.0  75.0   90.0     89.0    78.0  430.0\n",
            "2      3      107    magizh  99.0  98.0   97.0    100.0    90.0  484.0\n",
            "3      4      108    chitra  80.0  88.0   98.0     96.0    94.0  456.0\n",
            "4      5      109    tharun  78.0  79.0   90.0     80.0    79.0  406.0\n",
            "5      6      110     varun  90.0  91.0   92.0     93.0    94.0  460.0\n",
            "6      7      111     varun  90.0  91.0   92.0     93.0    94.0  460.0\n",
            "7      8      112    monish  89.0  80.0   87.0     88.0    86.0  430.0\n",
            "8      9      113    thanvi  78.0  87.0   97.0     90.0    89.0  441.0\n",
            "9     10      114    swetha  88.0  80.0   89.0     90.0    94.0  441.0\n",
            "10    11      115      rani  99.0  90.0   83.0     85.0    67.0  424.0\n",
            "11    12      116     kumar  67.0  60.0   55.0     76.0    57.0  315.0\n",
            "12    13      117   santosh  99.0  90.0   98.0     97.0    96.0  480.0\n",
            "13    14      118     maddy  86.0  89.0   90.0     76.0    89.0  430.0\n",
            "14    15      119  thrishal  99.0  96.0   95.0     86.0    87.0  463.0\n",
            "15    16      120      moni  90.0  88.0   90.0     89.0    90.0  447.0\n",
            "16    17      121     priya  99.0  90.0   95.0     85.0    91.0  460.0\n",
            "17    18      122    sherin  97.0  98.0   94.0     94.0    90.0  473.0\n",
            "18    19      123    kaviya  95.0  87.0   95.0     96.0    98.0  471.0\n",
            "19    20      124      viji  94.0  88.0   56.0     99.0    99.0  436.0\n",
            "\n",
            " updated list\n",
            "\n"
          ]
        },
        {
          "output_type": "stream",
          "name": "stderr",
          "text": [
            "<ipython-input-7-0341b9640b98>:2: FutureWarning: DataFrame.fillna with 'method' is deprecated and will raise in a future version. Use obj.ffill() or obj.bfill() instead.\n",
            "  k=df.fillna(method='pad')\n"
          ]
        }
      ]
    },
    {
      "cell_type": "code",
      "source": [
        "print(\"\\n Drop one particular column and its values:\\n\")\n",
        "k.drop(['SOCIAL'],axis=1,inplace=True)\n",
        "print(k)\n",
        "print(\"\\n updated list\\n\")\n",
        "k.to_excel(\"/content/Marks2.xlsx\")"
      ],
      "metadata": {
        "colab": {
          "base_uri": "https://localhost:8080/"
        },
        "id": "STTrY3rHY402",
        "outputId": "9b1a6027-5c94-4a09-8cfe-0bbe0de84c11"
      },
      "execution_count": null,
      "outputs": [
        {
          "output_type": "stream",
          "name": "stdout",
          "text": [
            "\n",
            " Drop one particular column and its values:\n",
            "\n",
            "    S.NO  ROLL NO      NAME   ENG   TAM  MATHS  SCIENCE  TOTAL\n",
            "0      1      105      arun  87.0  89.0   90.0     94.0  459.0\n",
            "1      2      106     rashi  98.0  75.0   90.0     89.0  430.0\n",
            "2      3      107    magizh  99.0  98.0   97.0    100.0  484.0\n",
            "3      4      108    chitra  80.0  88.0   98.0     96.0  456.0\n",
            "4      5      109    tharun  78.0  79.0   90.0     80.0  406.0\n",
            "5      6      110     varun  90.0  91.0   92.0     93.0  460.0\n",
            "6      7      111     varun  90.0  91.0   92.0     93.0  460.0\n",
            "7      8      112    monish  89.0  80.0   87.0     88.0  430.0\n",
            "8      9      113    thanvi  78.0  87.0   97.0     90.0  441.0\n",
            "9     10      114    swetha  88.0  80.0   89.0     90.0  441.0\n",
            "10    11      115      rani  99.0  90.0   83.0     85.0  424.0\n",
            "11    12      116     kumar  67.0  60.0   55.0     76.0  315.0\n",
            "12    13      117   santosh  99.0  90.0   98.0     97.0  480.0\n",
            "13    14      118     maddy  86.0  89.0   90.0     76.0  430.0\n",
            "14    15      119  thrishal  99.0  96.0   95.0     86.0  463.0\n",
            "15    16      120      moni  90.0  88.0   90.0     89.0  447.0\n",
            "16    17      121     priya  99.0  90.0   95.0     85.0  460.0\n",
            "17    18      122    sherin  97.0  98.0   94.0     94.0  473.0\n",
            "18    19      123    kaviya  95.0  87.0   95.0     96.0  471.0\n",
            "19    20      124      viji  94.0  88.0   56.0     99.0  436.0\n",
            "\n",
            " updated list\n",
            "\n"
          ]
        }
      ]
    },
    {
      "cell_type": "code",
      "source": [
        "print(\"\\n Drop NaNrows:\\n\")\n",
        "df=pd.read_excel(\"/content/Marks.xlsx\")\n",
        "print(df)"
      ],
      "metadata": {
        "colab": {
          "base_uri": "https://localhost:8080/"
        },
        "id": "Cx74McgPbLHv",
        "outputId": "226dfba2-a674-4f8b-944d-c80f139fc6ef"
      },
      "execution_count": null,
      "outputs": [
        {
          "output_type": "stream",
          "name": "stdout",
          "text": [
            "\n",
            " Drop NaNrows:\n",
            "\n",
            "    S.NO  ROLL NO      NAME   ENG   TAM  MATHS  SCIENCE  SOCIAL  TOTAL\n",
            "0      1      105      arun  87.0  89.0   90.0     94.0    99.0  459.0\n",
            "1      2      106     rashi  98.0  75.0   90.0     89.0    78.0  430.0\n",
            "2      3      107    magizh  99.0  98.0   97.0    100.0    90.0  484.0\n",
            "3      4      108    chitra  80.0  88.0   98.0     96.0    94.0  456.0\n",
            "4      5      109    tharun  78.0  79.0   90.0     80.0    79.0  406.0\n",
            "5      6      110     varun  90.0  91.0   92.0     93.0    94.0  460.0\n",
            "6      7      111       NaN   NaN   NaN    NaN      NaN     NaN    NaN\n",
            "7      8      112    monish  89.0  80.0   87.0     88.0    86.0  430.0\n",
            "8      9      113    thanvi  78.0  87.0   97.0     90.0    89.0  441.0\n",
            "9     10      114    swetha  88.0  80.0   89.0     90.0    94.0  441.0\n",
            "10    11      115      rani  99.0  90.0   83.0     85.0    67.0  424.0\n",
            "11    12      116     kumar  67.0  60.0   55.0     76.0    57.0  315.0\n",
            "12    13      117   santosh  99.0  90.0   98.0     97.0    96.0  480.0\n",
            "13    14      118     maddy  86.0  89.0   90.0     76.0    89.0  430.0\n",
            "14    15      119  thrishal  99.0  96.0   95.0     86.0    87.0  463.0\n",
            "15    16      120      moni  90.0  88.0   90.0     89.0    90.0  447.0\n",
            "16    17      121     priya  99.0  90.0   95.0     85.0    91.0  460.0\n",
            "17    18      122    sherin  97.0  98.0   94.0     94.0    90.0  473.0\n",
            "18    19      123    kaviya  95.0  87.0   95.0     96.0    98.0  471.0\n",
            "19    20      124      viji  94.0  88.0   56.0     99.0    99.0  436.0\n"
          ]
        }
      ]
    },
    {
      "cell_type": "code",
      "source": [
        "import pandas as pd\n",
        "print(\"\\n Replace values:\\n\")\n",
        "n=pd.read_excel(\"/Marks.xlsx\")\n",
        "print(\"\\n original data:\\n\")\n",
        "print(n)\n",
        "y=n.replace({89:88})\n",
        "print(\"\\n Replaced dataset:\\n\")\n",
        "print(y)\n",
        "print(\"\\n updated dataset:\\n\")\n",
        "y.to_excel(\"/Marks.xlsx\")"
      ],
      "metadata": {
        "colab": {
          "base_uri": "https://localhost:8080/"
        },
        "id": "irWFF0Wi-6Ns",
        "outputId": "a7d24604-53fc-4c97-aafd-6118179c00b6"
      },
      "execution_count": 7,
      "outputs": [
        {
          "output_type": "stream",
          "name": "stdout",
          "text": [
            "\n",
            " Replace values:\n",
            "\n",
            "\n",
            " original data:\n",
            "\n",
            "    S.NO  ROLL NO      NAME   ENG   TAM  MATHS  SCIENCE  SOCIAL  TOTAL\n",
            "0      1      105      arun  87.0  89.0   90.0     94.0    99.0  459.0\n",
            "1      2      106     rashi  98.0  75.0   90.0     89.0    78.0  430.0\n",
            "2      3      107    magizh  99.0  98.0   97.0    100.0    90.0  484.0\n",
            "3      4      108    chitra  80.0  88.0   98.0     96.0    94.0  456.0\n",
            "4      5      109    tharun  78.0  79.0   90.0     80.0    79.0  406.0\n",
            "5      6      110     varun  90.0  91.0   92.0     93.0    94.0  460.0\n",
            "6      7      111       NaN   NaN   NaN    NaN      NaN     NaN    NaN\n",
            "7      8      112    monish  89.0  80.0   87.0     88.0    86.0  430.0\n",
            "8      9      113    thanvi  78.0  87.0   97.0     90.0    89.0  441.0\n",
            "9     10      114    swetha  88.0  80.0   89.0     90.0    94.0  441.0\n",
            "10    11      115      rani  99.0  90.0   83.0     85.0    67.0  424.0\n",
            "11    12      116     kumar  67.0  60.0   55.0     76.0    57.0  315.0\n",
            "12    13      117   santosh  99.0  90.0   98.0     97.0    96.0  480.0\n",
            "13    14      118     maddy  86.0  89.0   90.0     76.0    89.0  430.0\n",
            "14    15      119  thrishal  99.0  96.0   95.0     86.0    87.0  463.0\n",
            "15    16      120      moni  90.0  88.0   90.0     89.0    90.0  447.0\n",
            "16    17      121     priya  99.0  90.0   95.0     85.0    91.0  460.0\n",
            "17    18      122    sherin  97.0  98.0   94.0     94.0    90.0  473.0\n",
            "18    19      123    kaviya  95.0  87.0   95.0     96.0    98.0  471.0\n",
            "19    20      124      viji  94.0  88.0   56.0     99.0    99.0  436.0\n",
            "\n",
            " Replaced dataset:\n",
            "\n",
            "    S.NO  ROLL NO      NAME   ENG   TAM  MATHS  SCIENCE  SOCIAL  TOTAL\n",
            "0      1      105      arun  87.0  88.0   90.0     94.0    99.0  459.0\n",
            "1      2      106     rashi  98.0  75.0   90.0     88.0    78.0  430.0\n",
            "2      3      107    magizh  99.0  98.0   97.0    100.0    90.0  484.0\n",
            "3      4      108    chitra  80.0  88.0   98.0     96.0    94.0  456.0\n",
            "4      5      109    tharun  78.0  79.0   90.0     80.0    79.0  406.0\n",
            "5      6      110     varun  90.0  91.0   92.0     93.0    94.0  460.0\n",
            "6      7      111       NaN   NaN   NaN    NaN      NaN     NaN    NaN\n",
            "7      8      112    monish  88.0  80.0   87.0     88.0    86.0  430.0\n",
            "8      9      113    thanvi  78.0  87.0   97.0     90.0    88.0  441.0\n",
            "9     10      114    swetha  88.0  80.0   88.0     90.0    94.0  441.0\n",
            "10    11      115      rani  99.0  90.0   83.0     85.0    67.0  424.0\n",
            "11    12      116     kumar  67.0  60.0   55.0     76.0    57.0  315.0\n",
            "12    13      117   santosh  99.0  90.0   98.0     97.0    96.0  480.0\n",
            "13    14      118     maddy  86.0  88.0   90.0     76.0    88.0  430.0\n",
            "14    15      119  thrishal  99.0  96.0   95.0     86.0    87.0  463.0\n",
            "15    16      120      moni  90.0  88.0   90.0     88.0    90.0  447.0\n",
            "16    17      121     priya  99.0  90.0   95.0     85.0    91.0  460.0\n",
            "17    18      122    sherin  97.0  98.0   94.0     94.0    90.0  473.0\n",
            "18    19      123    kaviya  95.0  87.0   95.0     96.0    98.0  471.0\n",
            "19    20      124      viji  94.0  88.0   56.0     99.0    99.0  436.0\n",
            "\n",
            " updated dataset:\n",
            "\n"
          ]
        }
      ]
    },
    {
      "cell_type": "code",
      "source": [
        "df=pd.read_excel(\"/Marks.xlsx\")\n",
        "print(df)\n",
        "print(\"\\n Extract using isin()function:\\n\")\n",
        "new=df[\"SCIENCE\"].isin([93])\n",
        "print(df[new])"
      ],
      "metadata": {
        "colab": {
          "base_uri": "https://localhost:8080/"
        },
        "id": "OyMiWVeqD3Ql",
        "outputId": "5f7213a4-6e5a-4758-983f-b0a6452104ac"
      },
      "execution_count": 9,
      "outputs": [
        {
          "output_type": "stream",
          "name": "stdout",
          "text": [
            "    Unnamed: 0  S.NO  ROLL NO      NAME   ENG   TAM  MATHS  SCIENCE  SOCIAL  \\\n",
            "0            0     1      105      arun  87.0  88.0   90.0     94.0    99.0   \n",
            "1            1     2      106     rashi  98.0  75.0   90.0     88.0    78.0   \n",
            "2            2     3      107    magizh  99.0  98.0   97.0    100.0    90.0   \n",
            "3            3     4      108    chitra  80.0  88.0   98.0     96.0    94.0   \n",
            "4            4     5      109    tharun  78.0  79.0   90.0     80.0    79.0   \n",
            "5            5     6      110     varun  90.0  91.0   92.0     93.0    94.0   \n",
            "6            6     7      111       NaN   NaN   NaN    NaN      NaN     NaN   \n",
            "7            7     8      112    monish  88.0  80.0   87.0     88.0    86.0   \n",
            "8            8     9      113    thanvi  78.0  87.0   97.0     90.0    88.0   \n",
            "9            9    10      114    swetha  88.0  80.0   88.0     90.0    94.0   \n",
            "10          10    11      115      rani  99.0  90.0   83.0     85.0    67.0   \n",
            "11          11    12      116     kumar  67.0  60.0   55.0     76.0    57.0   \n",
            "12          12    13      117   santosh  99.0  90.0   98.0     97.0    96.0   \n",
            "13          13    14      118     maddy  86.0  88.0   90.0     76.0    88.0   \n",
            "14          14    15      119  thrishal  99.0  96.0   95.0     86.0    87.0   \n",
            "15          15    16      120      moni  90.0  88.0   90.0     88.0    90.0   \n",
            "16          16    17      121     priya  99.0  90.0   95.0     85.0    91.0   \n",
            "17          17    18      122    sherin  97.0  98.0   94.0     94.0    90.0   \n",
            "18          18    19      123    kaviya  95.0  87.0   95.0     96.0    98.0   \n",
            "19          19    20      124      viji  94.0  88.0   56.0     99.0    99.0   \n",
            "\n",
            "    TOTAL  \n",
            "0   459.0  \n",
            "1   430.0  \n",
            "2   484.0  \n",
            "3   456.0  \n",
            "4   406.0  \n",
            "5   460.0  \n",
            "6     NaN  \n",
            "7   430.0  \n",
            "8   441.0  \n",
            "9   441.0  \n",
            "10  424.0  \n",
            "11  315.0  \n",
            "12  480.0  \n",
            "13  430.0  \n",
            "14  463.0  \n",
            "15  447.0  \n",
            "16  460.0  \n",
            "17  473.0  \n",
            "18  471.0  \n",
            "19  436.0  \n",
            "\n",
            " Extract using isin()function:\n",
            "\n",
            "   Unnamed: 0  S.NO  ROLL NO   NAME   ENG   TAM  MATHS  SCIENCE  SOCIAL  TOTAL\n",
            "5           5     6      110  varun  90.0  91.0   92.0     93.0    94.0  460.0\n"
          ]
        }
      ]
    },
    {
      "cell_type": "markdown",
      "source": [
        "# New section"
      ],
      "metadata": {
        "id": "Fyf-pzdeBk_r"
      }
    },
    {
      "cell_type": "code",
      "source": [],
      "metadata": {
        "id": "7bKd0SZjD2TN"
      },
      "execution_count": null,
      "outputs": []
    }
  ]
}