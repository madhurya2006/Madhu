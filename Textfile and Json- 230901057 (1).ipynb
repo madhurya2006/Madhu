{
 "cells": [
  {
   "cell_type": "code",
   "execution_count": 6,
   "id": "2d301fb2",
   "metadata": {},
   "outputs": [],
   "source": [
    "f=open(\"/Users/student/Downloads/textfile.txt\",\"w\")\n",
    "f.write(\"Wakeup early\\n\")\n",
    "f.write(\"Read daily\\n\")\n",
    "f.write(\"Be punctual\\n\")\n",
    "f.close()"
   ]
  },
  {
   "cell_type": "code",
   "execution_count": 3,
   "id": "09a06b19",
   "metadata": {},
   "outputs": [
    {
     "name": "stdout",
     "output_type": "stream",
     "text": [
      "Wakeup early\n",
      "\n"
     ]
    }
   ],
   "source": [
    "a=open(\"/Users/student/Downloads/textfile.txt\",\"r\")\n",
    "print(a.readline())"
   ]
  },
  {
   "cell_type": "code",
   "execution_count": 4,
   "id": "43fed612",
   "metadata": {},
   "outputs": [
    {
     "name": "stdout",
     "output_type": "stream",
     "text": [
      "Wakeup early\n",
      "\n",
      "Read daily\n",
      "\n",
      "Be punctual\n",
      "\n"
     ]
    }
   ],
   "source": [
    "a=open(\"/Users/student/Downloads/textfile.txt\",\"r\")\n",
    "print(a.readline())\n",
    "print(a.readline())\n",
    "print(a.readline())\n",
    "a.close()"
   ]
  },
  {
   "cell_type": "code",
   "execution_count": 9,
   "id": "c6bcbec0",
   "metadata": {},
   "outputs": [],
   "source": [
    "\n",
    "b=open(\"/Users/student/Downloads/textfile.txt\",\"a\")\n",
    "b.write(\"Bavani\\n\")\n",
    "b.write(\"Rithika\\n\")\n",
    "b.close()"
   ]
  },
  {
   "cell_type": "code",
   "execution_count": 10,
   "id": "a339cda0",
   "metadata": {},
   "outputs": [
    {
     "name": "stdout",
     "output_type": "stream",
     "text": [
      "Wakeup early\n",
      "Read daily\n",
      "Be punctual\n",
      "Bavani\n",
      "Rithika\n",
      "\n"
     ]
    }
   ],
   "source": [
    "c=open(\"/Users/student/Downloads/textfile.txt\",\"r\")\n",
    "print(c.read())\n",
    "c.close()"
   ]
  },
  {
   "cell_type": "code",
   "execution_count": 11,
   "id": "89b5b181",
   "metadata": {},
   "outputs": [
    {
     "name": "stdout",
     "output_type": "stream",
     "text": [
      "['Wakeup early\\n', 'Read daily\\n', 'Be punctual\\n', 'Bavani\\n', 'Rithika\\n']\n"
     ]
    }
   ],
   "source": [
    "a=open(\"/Users/student/Downloads/textfile.txt\",\"r\")\n",
    "print(a.readlines())\n",
    "a.close()"
   ]
  },
  {
   "cell_type": "code",
   "execution_count": 12,
   "id": "0c675701",
   "metadata": {},
   "outputs": [
    {
     "name": "stdout",
     "output_type": "stream",
     "text": [
      "['Wakeup early\\n', 'Read daily\\n', 'Be punctual\\n', 'Bavani\\n', 'Rithika\\n']\n"
     ]
    }
   ],
   "source": [
    "with open (\"/Users/student/Downloads/textfile.txt\")as m:\n",
    "    l=m.readlines()\n",
    "    print(l)"
   ]
  },
  {
   "cell_type": "code",
   "execution_count": 6,
   "id": "73c676c1",
   "metadata": {},
   "outputs": [
    {
     "name": "stdout",
     "output_type": "stream",
     "text": [
      "Mumbai\n"
     ]
    }
   ],
   "source": [
    "import json\n",
    "x='{\"Name\":\"Sundar\",\"age\":25,\"City\":\"Mumbai\"}'\n",
    "y=json.loads(x)\n",
    "print(y[\"City\"])"
   ]
  },
  {
   "cell_type": "code",
   "execution_count": 7,
   "id": "6d26e728",
   "metadata": {},
   "outputs": [
    {
     "name": "stdout",
     "output_type": "stream",
     "text": [
      "\"{\\\"Name\\\":\\\"Sundar\\\",\\\"age\\\":25,\\\"City\\\":\\\"Mumbai\\\"}\"\n"
     ]
    }
   ],
   "source": [
    "x\n",
    "{\"name\":\"Sundar\",\n",
    "\"age\":25,\n",
    "\"city\":\"Mumbai\"\n",
    "}\n",
    "y=json.dumps(x)\n",
    "print(y)"
   ]
  },
  {
   "cell_type": "code",
   "execution_count": null,
   "id": "a8279f4c",
   "metadata": {},
   "outputs": [],
   "source": []
  }
 ],
 "metadata": {
  "kernelspec": {
   "display_name": "Python 3 (ipykernel)",
   "language": "python",
   "name": "python3"
  },
  "language_info": {
   "codemirror_mode": {
    "name": "ipython",
    "version": 3
   },
   "file_extension": ".py",
   "mimetype": "text/x-python",
   "name": "python",
   "nbconvert_exporter": "python",
   "pygments_lexer": "ipython3",
   "version": "3.11.5"
  }
 },
 "nbformat": 4,
 "nbformat_minor": 5
}
