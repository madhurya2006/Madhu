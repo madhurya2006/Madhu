{
 "cells": [
  {
   "cell_type": "code",
   "execution_count": 10,
   "id": "277cf9a4-090a-417e-97a7-500dedc32c71",
   "metadata": {},
   "outputs": [
    {
     "name": "stdout",
     "output_type": "stream",
     "text": [
      "Original Dataframe\n",
      "          A      B  C  D\n",
      "0      Abi    one  3  3\n",
      "1     Babu    two  6  1\n",
      "2  Charles  three  5  6\n",
      "3   Darwin    one  4  2\n",
      "4      Abi    two  5  6\n",
      "5  Charles  three  3  2\n",
      "6   Darwin    one  2  0\n"
     ]
    }
   ],
   "source": [
    "import pandas as pd\n",
    "import numpy as np\n",
    "df=pd.DataFrame({'A':['Abi','Babu','Charles','Darwin','Abi','Charles','Darwin'],\n",
    "                 'B':['one','two','three','one','two','three','one'],\n",
    "                 'C':np.random.randint(7,size=7),\n",
    "                 'D':np.random.randint(7,size=7)})\n",
    "print(\"Original Dataframe\\n\",df)"
   ]
  },
  {
   "cell_type": "code",
   "execution_count": 14,
   "id": "0d7507c1-4550-469a-b0f3-5655fe26ac73",
   "metadata": {},
   "outputs": [
    {
     "name": "stdout",
     "output_type": "stream",
     "text": [
      "Original Dataframe\n",
      "          A      B  C  D\n",
      "0      Abi    one  3  3\n",
      "1     Babu    two  6  1\n",
      "2  Charles  three  5  6\n",
      "3   Darwin    one  4  2\n",
      "4      Abi    two  5  6\n",
      "5  Charles  three  3  2\n",
      "6   Darwin    one  2  0\n",
      "\n",
      " Grouped Dataframe with one column sum\n",
      "          A  C\n",
      "0      Abi  8\n",
      "1     Babu  6\n",
      "2  Charles  8\n",
      "3   Darwin  6\n"
     ]
    }
   ],
   "source": [
    "df1=df.groupby(['A'],as_index=False)['C'].sum()\n",
    "print(\"Original Dataframe\\n\",df)\n",
    "print(\"\\n Grouped Dataframe with one column sum\\n\",df1)"
   ]
  },
  {
   "cell_type": "code",
   "execution_count": null,
   "id": "154a24d7-d9ba-4e65-a74c-ec79a568ba82",
   "metadata": {},
   "outputs": [],
   "source": [
    "\n"
   ]
  },
  {
   "cell_type": "code",
   "execution_count": 22,
   "id": "4d9f33ed-3d3c-4029-a5eb-23de7f650f1c",
   "metadata": {},
   "outputs": [
    {
     "name": "stdout",
     "output_type": "stream",
     "text": [
      "Original Dataframe\n",
      "          A      B  C  D\n",
      "0      Abi    one  3  3\n",
      "1     Babu    two  6  1\n",
      "2  Charles  three  5  6\n",
      "3   Darwin    one  4  2\n",
      "4      Abi    two  5  6\n",
      "5  Charles  three  3  2\n",
      "6   Darwin    one  2  0\n",
      "\n",
      " Grouped Dataframe with multiple column sum\n",
      "          A      B  C\n",
      "0      Abi    one  3\n",
      "1      Abi    two  5\n",
      "2     Babu    two  6\n",
      "3  Charles  three  8\n",
      "4   Darwin    one  6\n"
     ]
    }
   ],
   "source": [
    "df2=df.groupby(['A','B'],as_index=False)['C'].sum()\n",
    "print(\"Original Dataframe\\n\",df)\n",
    "print(\"\\n Grouped Dataframe with multiple column sum\\n\",df2)"
   ]
  },
  {
   "cell_type": "code",
   "execution_count": 27,
   "id": "18766b85-1a6d-4efc-9789-f87aced88c28",
   "metadata": {},
   "outputs": [
    {
     "name": "stdout",
     "output_type": "stream",
     "text": [
      "Original Dataframe\n",
      "          A      B  C  D\n",
      "0      Abi    one  3  3\n",
      "1     Babu    two  6  1\n",
      "2  Charles  three  5  6\n",
      "3   Darwin    one  4  2\n",
      "4      Abi    two  5  6\n",
      "5  Charles  three  3  2\n",
      "6   Darwin    one  2  0\n",
      "\n",
      " Grouped Dataframe with multiple column sum\n",
      "          A      B  C  D\n",
      "0      Abi    one  3  3\n",
      "1      Abi    two  5  6\n",
      "2     Babu    two  6  1\n",
      "3  Charles  three  8  8\n",
      "4   Darwin    one  6  2\n"
     ]
    }
   ],
   "source": [
    "df3=df.groupby(['A','B'],as_index=False)[['C','D']].sum()\n",
    "print(\"Original Dataframe\\n\",df)\n",
    "print(\"\\n Grouped Dataframe with multiple column sum\\n\",df3)"
   ]
  },
  {
   "cell_type": "code",
   "execution_count": 29,
   "id": "2adf3fcf-8991-4698-9b2d-8520c2a879b0",
   "metadata": {},
   "outputs": [
    {
     "name": "stdout",
     "output_type": "stream",
     "text": [
      "  Category  Sales  Profit\n",
      "0        A    100      10\n",
      "1        B    200      15\n",
      "2        C    150      20\n",
      "3        A    150      25\n",
      "4        B    130      30\n",
      "5        C    200      15\n"
     ]
    }
   ],
   "source": [
    "\n"
   ]
  },
  {
   "cell_type": "code",
   "execution_count": null,
   "id": "13e64d01-7c97-4a0b-8fc9-09fec55e5266",
   "metadata": {},
   "outputs": [],
   "source": []
  },
  {
   "cell_type": "code",
   "execution_count": 32,
   "id": "962be906-5a61-4a79-9678-baa899243c13",
   "metadata": {},
   "outputs": [
    {
     "name": "stdout",
     "output_type": "stream",
     "text": [
      "  Category  Sales  Profit\n",
      "0        A    100      10\n",
      "1        B    200      15\n",
      "2        C    150      20\n",
      "3        A    150      25\n",
      "4        B    130      30\n",
      "5        C    200      15\n",
      "         Sales        Profit    \n",
      "           sum   mean    sum max\n",
      "Category                        \n",
      "A          250  125.0     35  25\n",
      "B          330  165.0     45  30\n",
      "C          350  175.0     35  20\n"
     ]
    }
   ],
   "source": [
    "df=pd.DataFrame({'Category':['A','B','C','A','B','C'],\n",
    "                'Sales':[100,200,150,150,130,200],\n",
    "                 'Profit':[10,15,20,25,30,15]})\n",
    "print(df)\n",
    "df1=df.groupby('Category').agg({'Sales':['sum','mean'],'Profit':['sum','max']})\n",
    "print(df1)"
   ]
  },
  {
   "cell_type": "code",
   "execution_count": 40,
   "id": "3aae89a5-c2b9-4d6d-a933-36d15b01a073",
   "metadata": {},
   "outputs": [
    {
     "name": "stdout",
     "output_type": "stream",
     "text": [
      "  Student  Marks  Attendance\n",
      "0       A     67          92\n",
      "1       B     43          87\n",
      "2       C     58          98\n",
      "3       D     90          79\n",
      "4       A     99          77\n",
      "5       C     81          93\n",
      "        Marks      \n",
      "          sum  mean\n",
      "Student            \n",
      "A         166  83.0\n",
      "B          43  43.0\n",
      "C         139  69.5\n",
      "D          90  90.0\n"
     ]
    }
   ],
   "source": [
    "df=pd.DataFrame({'Student':['A','B','C','D','A','C'],\n",
    "                'Marks':[67,43,58,90,99,81],\n",
    "                'Attendance':[92,87,98,79,77,93]})\n",
    "print(df)\n",
    "df2=df.groupby('Student').agg({'Marks':['sum','mean']})\n",
    "print(df2)"
   ]
  },
  {
   "cell_type": "code",
   "execution_count": null,
   "id": "9f9a2120-f4e8-40d0-a0d5-f9bb0b5c5aad",
   "metadata": {},
   "outputs": [],
   "source": []
  }
 ],
 "metadata": {
  "kernelspec": {
   "display_name": "Python 3 (ipykernel)",
   "language": "python",
   "name": "python3"
  },
  "language_info": {
   "codemirror_mode": {
    "name": "ipython",
    "version": 3
   },
   "file_extension": ".py",
   "mimetype": "text/x-python",
   "name": "python",
   "nbconvert_exporter": "python",
   "pygments_lexer": "ipython3",
   "version": "3.11.5"
  }
 },
 "nbformat": 4,
 "nbformat_minor": 5
}
